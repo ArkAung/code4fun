{
 "cells": [
  {
   "cell_type": "markdown",
   "metadata": {},
   "source": [
    "### Question\n",
    "\n",
    "Given an `MxN` grid with road blocks (cells marked by 1), get the number of possible paths that a robot can take to get to the bottom-right cell of the grid (goal) from top-left cell (starting point). The robot can only move down or right.\n",
    "\n",
    "Example:\n",
    "```\n",
    "[[0, 0, 0],\n",
    " [0, 0, 0],\n",
    " [0, 1, 0]]\n",
    "```\n",
    "There are three possible paths to get to bottom right cell\n",
    "\n",
    "\n",
    "```\n",
    "[[0, 1, 0],\n",
    " [0, 1, 0],\n",
    " [0, 1, 0]]\n",
    "```\n",
    "There is no possible path to get to bottom right cell"
   ]
  },
  {
   "cell_type": "markdown",
   "metadata": {},
   "source": [
    "### Solution\n",
    "\n",
    "The approach presented here is a dynamic programming approach rather than using BFS or DFS. The idea is so ask: If I want to know the number of paths that I can take to get to a particular cell at i-th row and j-th column, how many paths can I take to get to top cell and to left cell. All you need to do is to add them up."
   ]
  },
  {
   "cell_type": "code",
   "execution_count": 4,
   "metadata": {},
   "outputs": [],
   "source": [
    "def get_paths(g):\n",
    "    grid = g.copy() # Make a copy of input grid so that we don't modify it\n",
    "                    # one can also choose not to do this and modify grid in place\n",
    "    \n",
    "    if not grid:  # empty grid\n",
    "        return 0\n",
    "    \n",
    "    rows = len(grid)\n",
    "    cols = len(grid[0])\n",
    "    \n",
    "    if grid[0][0] == 1: # there is a roadblock at the start point\n",
    "        return 0        # nothing can be done\n",
    "    \n",
    "    # set starting point\n",
    "    grid[0][0] = 1      # there is 1 path from start point to start point\n",
    "    \n",
    "    for r in range(rows):\n",
    "        for c in range(cols):\n",
    "            if r==0 and c==0:    # skip starting position\n",
    "                continue\n",
    "            if grid[r][c] == 1:  # cell with road block\n",
    "                grid[r][c] = 0   # there is no way to get here\n",
    "                continue\n",
    "            up_cell = grid[r-1][c] if r-1 >= 0 else 0    # If up cell is not in the grid, set to 0\n",
    "            left_cell = grid[r][c-1] if c-1 >= 0 else 0  # If left cell is not in the grid, set to 0\n",
    "            \n",
    "            # In order to get the total paths to get to cell at positon [r][c], we only need to consider\n",
    "            # the number of paths the robot has to take to get to the cell on top and the cell on the left\n",
    "            # since our robot can only move either down or right\n",
    "            grid[r][c] = up_cell + left_cell\n",
    "            \n",
    "    return grid[rows-1][cols-1]"
   ]
  },
  {
   "cell_type": "markdown",
   "metadata": {},
   "source": [
    "Runtime: O(mn); where m is number of rows and n is number of columns. We are traversing every cell of the grid but only once for each cell"
   ]
  },
  {
   "cell_type": "markdown",
   "metadata": {},
   "source": [
    "Space: O(1); constant space if we modify the `grid` in place. If we decide to make a copy of the `grid`, space complexity will be O(mn)."
   ]
  },
  {
   "cell_type": "code",
   "execution_count": 5,
   "metadata": {},
   "outputs": [],
   "source": [
    "# test cases for the problem\n",
    "# [(input grid, number of paths to get to goal for that grid)]\n",
    "\n",
    "test_cases = [\n",
    "    ([[0, 0, 0],\n",
    "      [0, 0, 0],\n",
    "      [0, 1, 1]], 0),\n",
    "    ([[0, 0, 0],\n",
    "      [0, 0, 0],\n",
    "      [0, 1, 0]], 3),\n",
    "    ([[0, 0, 0],\n",
    "      [0, 1, 0],\n",
    "      [0, 1, 0]], 1),\n",
    "    ([[0, 1, 0],\n",
    "      [0, 0, 0],\n",
    "      [0, 1, 0]], 1),\n",
    "    ([[0, 0, 0],\n",
    "      [0, 0, 0],\n",
    "      [0, 0, 1]], 0),\n",
    "    ([[0, 0, 1],\n",
    "      [0, 0, 1],\n",
    "      [0, 0, 0]], 3),\n",
    "    ([[0, 0, 0],\n",
    "      [0, 1, 0]], 1),\n",
    "    ([[0]], 1),\n",
    "    ([[0, 0, 0]], 1),\n",
    "]   "
   ]
  },
  {
   "cell_type": "code",
   "execution_count": 6,
   "metadata": {},
   "outputs": [
    {
     "name": "stdout",
     "output_type": "stream",
     "text": [
      "Passed\n",
      "Passed\n",
      "Passed\n",
      "Passed\n",
      "Passed\n",
      "Passed\n",
      "Passed\n",
      "Passed\n",
      "Passed\n"
     ]
    }
   ],
   "source": [
    "for tc in test_cases:\n",
    "    question, answer = tc\n",
    "    result = get_paths(question)\n",
    "    assert result == answer, f\"Failed for case {question}. Expected {answer}; got back {result}\"\n",
    "    print(\"Passed\")"
   ]
  }
 ],
 "metadata": {
  "kernelspec": {
   "display_name": "Python 3",
   "language": "python",
   "name": "python3"
  },
  "language_info": {
   "codemirror_mode": {
    "name": "ipython",
    "version": 3
   },
   "file_extension": ".py",
   "mimetype": "text/x-python",
   "name": "python",
   "nbconvert_exporter": "python",
   "pygments_lexer": "ipython3",
   "version": "3.8.5"
  }
 },
 "nbformat": 4,
 "nbformat_minor": 4
}
