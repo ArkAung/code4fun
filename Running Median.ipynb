{
 "cells": [
  {
   "cell_type": "markdown",
   "id": "eb3f7018-175b-454a-8cf0-325162852dd9",
   "metadata": {},
   "source": [
    "## Question\n",
    "\n",
    "The median is the middle value in an ordered integer list. If the size of the list is even, there is no middle value and the median is the mean of the two middle values.\n",
    "\n",
    "    For example, for arr = [2,3,4], the median is 3.\n",
    "    For example, for arr = [2,3], the median is (2 + 3) / 2 = 2.5.\n",
    "\n",
    "Implement the MedianFinder class:\n",
    "\n",
    "    MedianFinder() initializes the MedianFinder object.\n",
    "    void addNum(int num) adds the integer num from the data stream to the data structure.\n",
    "    double findMedian() returns the median of all elements so far. Answers within 10-5 of the actual answer will be accepted.\n"
   ]
  },
  {
   "cell_type": "markdown",
   "id": "f60b8e50-2fc9-48a8-8b32-cf89018876f1",
   "metadata": {},
   "source": [
    "## Solution"
   ]
  },
  {
   "cell_type": "markdown",
   "id": "793bc4da-d43d-4b31-94d9-5759cf0c6606",
   "metadata": {},
   "source": [
    "There are several ways to implement this. The most naive way to think of this problem is to sort the array over and over again when `addNum` is called. However, there is better data structure called heap which we can use to maintain the maximum number on the left half of the array (using max heap) and the minimum number on the right half of the array (using min heap). Inserting elements to a heap can be done in logarithmic time.\n",
    "\n",
    "When `findMedian` is called, we just need to check whether the heaps are of same size (which means the original data array has even number of elements; return the average of two middle elements) or of different size (which means the original data array has odd number of elements; return the middle element).\n",
    "\n",
    "If heaps are of same size, we fetch the maximum element from the max heap and minimum element from the min heap and return their average.\n",
    "If heaps are of different size, we fetch the minimum element from the min heap.\n",
    "\n",
    "Python's `heapq` implementation is min heap so in order to make it behave like a max heap, we will have to covert the positive numbers to negative numbers when doing `heapq.heappush`"
   ]
  },
  {
   "cell_type": "code",
   "execution_count": 1,
   "id": "dc1f0eeb-9cc2-4c7a-9c97-faadcfeefbb2",
   "metadata": {},
   "outputs": [],
   "source": [
    "import heapq\n",
    "\n",
    "\n",
    "class MedianFinder:\n",
    "    def __init__(self):\n",
    "        self.left_half = []  # max heap\n",
    "        self.right_half = []  # min heap\n",
    "\n",
    "    def addNum(self, num: int) -> None:\n",
    "        if len(self.left_half) == len(self.right_half):\n",
    "            # Push to left half first (want to behave this like max heap so have to flip sign),\n",
    "            # Pop the maximum element from left half (re-flip the sign before pushing to right half so that we get the original number)\n",
    "            # Push that element to right half\n",
    "            # heapq.heappushpop is actually two operations i) push to heap first and then 2) pop the root element from the heap\n",
    "            heapq.heappush(self.right_half, -heapq.heappushpop(self.left_half, -num))\n",
    "            # After these three operations, right half will have +1 element comapred to left half\n",
    "        else:\n",
    "            # If the heaps are of different sizes (i.e. right half has +1 element compared to left half), do the opposite\n",
    "            # During the push of heappushpop, right half will have +2 elements compared to left half\n",
    "            # But the root element of right half heap will be popped during pop operation\n",
    "            # This popped element will be pushed to left half\n",
    "            heapq.heappush(self.left_half, -heapq.heappushpop(self.right_half, num))\n",
    "            # After these three operations, both halves will have equal size\n",
    "\n",
    "    def findMedian(self) -> float:\n",
    "        if len(self.left_half) == len(self.right_half):\n",
    "            # Since we flipped the signs of numbers when pushing to left_half, we have to flip it back\n",
    "            # The root element of max heap is maximum number and the root element of min heap is minimum number\n",
    "            # With array representation, the root elements are 0-th index of the array\n",
    "            return (-self.left_half[0] + self.right_half[0]) / 2\n",
    "        else:\n",
    "            return self.right_half[0]\n",
    "\n",
    "    def __str__(self) -> str:\n",
    "        left_half_str = f\"Left Half: {[-x for x in self.left_half]}\"\n",
    "        right_half_str = f\"Right Half: {self.right_half}\"\n",
    "        return left_half_str + \" \" + right_half_str"
   ]
  },
  {
   "cell_type": "markdown",
   "id": "73286849-d247-454a-8d27-b6583f367b0c",
   "metadata": {},
   "source": [
    "Runtime for `addNum`: O(log(n)); there are three heap operations; push, pop and push for each `addNum` call. Each of these heap operations take O(log(n)) time so the total time taken will be 3 * O(log(n)) -> O(log(n))\n",
    "\n",
    "Runtime for `findMedian`: O(1)\n",
    "\n",
    "Space: O(n)"
   ]
  },
  {
   "cell_type": "code",
   "execution_count": 2,
   "id": "cb6f532f-37a9-4dfc-93df-9c69d3e3d52c",
   "metadata": {},
   "outputs": [],
   "source": [
    "from collections import deque\n",
    "\n",
    "# test cases for the problem\n",
    "# operations: 'a' -> addNum, 'f' -> findMedian\n",
    "\n",
    "test_cases = [\n",
    "    {\n",
    "        \"data_stream\": [5, 6, 8, 3, 4, 6, 8, 3, 2],\n",
    "        \"operations\": deque([\"a\", \"a\", \"a\", \"f\", \"a\", \"a\", \"f\"]),\n",
    "        \"answers\": deque([None, None, None, 6, None, None, 5]),\n",
    "    },\n",
    "    {\n",
    "        \"data_stream\": [-2, -6, 8, 33, 44, 0, 0, 0, -2],\n",
    "        \"operations\": deque([\"a\", \"a\", \"a\", \"f\", \"a\", \"a\", \"f\"]),\n",
    "        \"answers\": deque([None, None, None, -2, None, None, 8]),\n",
    "    },\n",
    "    {\n",
    "        \"data_stream\": [0, 0, 0, 0, 0, 0, 0, 0],\n",
    "        \"operations\": deque([\"a\", \"a\", \"a\", \"f\", \"a\", \"a\", \"f\"]),\n",
    "        \"answers\": deque([None, None, None, 0, None, None, 0]),\n",
    "    },\n",
    "]"
   ]
  },
  {
   "cell_type": "code",
   "execution_count": 3,
   "id": "b05a43b3-9957-4069-9158-63816b6c0c70",
   "metadata": {},
   "outputs": [
    {
     "name": "stdout",
     "output_type": "stream",
     "text": [
      "Left Half: [] Right Half: [5]\n",
      "Left Half: [5] Right Half: [6]\n",
      "Left Half: [5] Right Half: [6, 8]\n",
      "Left Half: [5, 3] Right Half: [6, 8]\n",
      "Left Half: [4, 3] Right Half: [5, 8, 6]\n",
      "Passed\n",
      "Left Half: [] Right Half: [-2]\n",
      "Left Half: [-6] Right Half: [-2]\n",
      "Left Half: [-6] Right Half: [-2, 8]\n",
      "Left Half: [-2, -6] Right Half: [8, 33]\n",
      "Left Half: [-2, -6] Right Half: [8, 33, 44]\n",
      "Passed\n",
      "Left Half: [] Right Half: [0]\n",
      "Left Half: [0] Right Half: [0]\n",
      "Left Half: [0] Right Half: [0, 0]\n",
      "Left Half: [0, 0] Right Half: [0, 0]\n",
      "Left Half: [0, 0] Right Half: [0, 0, 0]\n",
      "Passed\n"
     ]
    }
   ],
   "source": [
    "for test_case in test_cases:\n",
    "\n",
    "    test_median_finder = MedianFinder()\n",
    "    counter = 0\n",
    "\n",
    "    while test_case[\"operations\"]:\n",
    "\n",
    "        num = test_case[\"data_stream\"][counter]\n",
    "        op = test_case[\"operations\"].popleft()\n",
    "        answer = test_case[\"answers\"].popleft()\n",
    "\n",
    "        if op == \"a\":\n",
    "            test_median_finder.addNum(num)\n",
    "            print(test_median_finder)\n",
    "            counter += 1\n",
    "        elif op == \"f\":\n",
    "            result = test_median_finder.findMedian()\n",
    "            assert result == answer, f\"Expected {answer}; Got back {result}\"\n",
    "    print(\"Passed\")"
   ]
  }
 ],
 "metadata": {
  "kernelspec": {
   "display_name": "Python 3",
   "language": "python",
   "name": "python3"
  },
  "language_info": {
   "codemirror_mode": {
    "name": "ipython",
    "version": 3
   },
   "file_extension": ".py",
   "mimetype": "text/x-python",
   "name": "python",
   "nbconvert_exporter": "python",
   "pygments_lexer": "ipython3",
   "version": "3.8.5"
  }
 },
 "nbformat": 4,
 "nbformat_minor": 5
}
