{
 "cells": [
  {
   "cell_type": "markdown",
   "id": "fcf8308e-b8cf-4583-bab8-191ea873f634",
   "metadata": {},
   "source": [
    "## Question\n",
    "\n",
    "Given an m x n binary matrix mat, return the distance of the nearest 0 for each cell.\n",
    "The distance between two adjacent cells is 1.\n",
    "\n",
    "    Example 1:\n",
    "\n",
    "    Input: mat = [[0,0,0],[0,1,0],[0,0,0]]\n",
    "    Output: [[0,0,0],[0,1,0],[0,0,0]]\n",
    "\n",
    "    Example 2:\n",
    "\n",
    "    Input: mat = [[0,0,0],[0,1,0],[1,1,1]]\n",
    "    Output: [[0,0,0],[0,1,0],[1,2,1]]\n"
   ]
  },
  {
   "cell_type": "markdown",
   "id": "de498c48-bd33-4008-a065-f1dcbd136dbc",
   "metadata": {},
   "source": [
    "## Solution"
   ]
  },
  {
   "cell_type": "code",
   "execution_count": 1,
   "id": "00a6cad1-e46a-42b6-b623-5c2890f95f8a",
   "metadata": {},
   "outputs": [],
   "source": [
    "from collections import deque\n",
    "from typing import List\n",
    "\n",
    "\n",
    "def updateMatrix(mat: List[List[int]]) -> List[List[int]]:\n",
    "    if not mat:\n",
    "        return [[]]\n",
    "\n",
    "    rows = len(mat)\n",
    "    cols = len(mat[0])\n",
    "\n",
    "    queue = deque([])\n",
    "\n",
    "    # initialize a result grid with some character to denote \"empty\" cell\n",
    "    result = [[\"E\" for c in range(cols)] for r in range(rows)]\n",
    "\n",
    "    # replace 'E's with zeros (where they occur in mat) to result grid\n",
    "    # and add the indices of zeros to queue to start rolling BFS\n",
    "    for r in range(rows):\n",
    "        for c in range(cols):\n",
    "            if mat[r][c] == 0:\n",
    "                result[r][c] = 0\n",
    "                queue.append((r, c))\n",
    "\n",
    "    # By this point, queue has been populated with all 0 cells\n",
    "    # BFS; start radiating from 0 cells layer by layer\n",
    "    while queue:\n",
    "        r, c = queue.popleft()\n",
    "        for x, y in [(r - 1, c), (r + 1, c), (r, c - 1), (r, c + 1)]:\n",
    "\n",
    "            if not 0 <= x < rows or not 0 <= y < cols:\n",
    "                # Do not do anything for out-of-grid indices\n",
    "                continue\n",
    "\n",
    "            if result[x][y] != \"E\":\n",
    "                # Do not do anything for cells with values other than 'E' in result grid\n",
    "                # If the cell has value other than 'E', it HAS alrady been populated with\n",
    "                # minimum distance from 0 cell at one ponit. This is guranteed by BFS\n",
    "                continue\n",
    "\n",
    "            # Otherwise, just add 1 to the value of adjacent cell\n",
    "            # For cells adjacent to 0 will have 1\n",
    "            # any other cell which is only adjacent to 1s will have 2\n",
    "            # and so on\n",
    "            result[x][y] = result[r][c] + 1\n",
    "\n",
    "            # push to queue since we have to radiate from that x,y cell in the\n",
    "            # future too\n",
    "            queue.append((x, y))\n",
    "\n",
    "    return result\n"
   ]
  },
  {
   "cell_type": "code",
   "execution_count": 2,
   "id": "e0784d34-9f20-4362-9f7d-461b9756e63f",
   "metadata": {},
   "outputs": [],
   "source": [
    "# test cases for the problem\n",
    "# [(input grid, resulting grid)]\n",
    "\n",
    "test_cases = [\n",
    "    ([[0,0,0],[0,1,0],[0,0,0]],[[0,0,0],[0,1,0],[0,0,0]]),\n",
    "    ([[0,0,0],[0,1,0],[1,1,1]],[[0,0,0],[0,1,0],[1,2,1]]),\n",
    "    ([[1],[0]],[[1],[0]]),\n",
    "    ([[1,1,0,0,1,0,0,1,1,0],[1,0,0,1,0,1,1,1,1,1],[1,1,1,0,0,1,1,1,1,0],[0,1,1,1,0,1,1,1,1,1],[0,0,1,1,1,1,1,1,1,0],[1,1,1,1,1,1,0,1,1,1],[0,1,1,1,1,1,1,0,0,1],[1,1,1,1,1,0,0,1,1,1],[0,1,0,1,1,0,1,1,1,1],[1,1,1,0,1,0,1,1,1,1]], [[2,1,0,0,1,0,0,1,1,0],[1,0,0,1,0,1,1,2,2,1],[1,1,1,0,0,1,2,2,1,0],[0,1,2,1,0,1,2,3,2,1],[0,0,1,2,1,2,1,2,1,0],[1,1,2,3,2,1,0,1,1,1],[0,1,2,3,2,1,1,0,0,1],[1,2,1,2,1,0,0,1,1,2],[0,1,0,1,1,0,1,2,2,3],[1,2,1,0,1,0,1,2,3,4]])\n",
    "]"
   ]
  },
  {
   "cell_type": "code",
   "execution_count": 3,
   "id": "56ab3b5f-acdd-4b03-8157-777e967b288d",
   "metadata": {},
   "outputs": [
    {
     "name": "stdout",
     "output_type": "stream",
     "text": [
      "Passed\n",
      "Passed\n",
      "Passed\n",
      "Passed\n"
     ]
    }
   ],
   "source": [
    "for tc in test_cases:\n",
    "    question, answer = tc\n",
    "    result = updateMatrix(question)\n",
    "    assert (\n",
    "        result == answer\n",
    "    ), f\"Failed for case {question}. Expected {answer}; got back {result}\"\n",
    "    print(\"Passed\")"
   ]
  }
 ],
 "metadata": {
  "kernelspec": {
   "display_name": "Python 3",
   "language": "python",
   "name": "python3"
  },
  "language_info": {
   "codemirror_mode": {
    "name": "ipython",
    "version": 3
   },
   "file_extension": ".py",
   "mimetype": "text/x-python",
   "name": "python",
   "nbconvert_exporter": "python",
   "pygments_lexer": "ipython3",
   "version": "3.6.13"
  }
 },
 "nbformat": 4,
 "nbformat_minor": 5
}
