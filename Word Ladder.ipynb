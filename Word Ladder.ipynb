{
 "cells": [
  {
   "cell_type": "markdown",
   "id": "72fa2530-d576-458d-a0ee-f1dfc5113cea",
   "metadata": {},
   "source": [
    "## Question\n",
    "\n",
    "A transformation sequence from word `beginWord` to word `endWord` using a dictionary `wordList` is a sequence of words `beginWord -> s1 -> s2 -> ... -> sk` such that:\n",
    "\n",
    "    Every adjacent pair of words differs by a single letter.\n",
    "    Every si for 1 <= i <= k is in wordList. Note that beginWord does not need to be in wordList.\n",
    "    sk == endWord\n",
    "\n",
    "Given two words, `beginWord` and `endWord`, and a dictionary `wordList`, return the number of words in the shortest transformation sequence from `beginWord` to `endWord`, or 0 if no such sequence exists.\n",
    "\n",
    "\n",
    "Example 1:\n",
    "\n",
    "Input: beginWord = \"hit\", endWord = \"cog\", wordList = [\"hot\",\"dot\",\"dog\",\"lot\",\"log\",\"cog\"]\n",
    "\n",
    "Output: 5\n",
    "\n",
    "Explanation: One shortest transformation sequence is \"hit\" -> \"hot\" -> \"dot\" -> \"dog\" -> cog\", which is 5 words long.\n",
    "\n",
    "Example 2:\n",
    "\n",
    "Input: beginWord = \"hit\", endWord = \"cog\", wordList = [\"hot\",\"dot\",\"dog\",\"lot\",\"log\"]\n",
    "\n",
    "Output: 0\n",
    "\n",
    "Explanation: The endWord \"cog\" is not in wordList, therefore there is no valid transformation sequence.\n",
    "\n",
    " \n",
    "\n",
    "Constraints:\n",
    "\n",
    "    1 <= beginWord.length <= 10\n",
    "    endWord.length == beginWord.length\n",
    "    1 <= wordList.length <= 5000\n",
    "    wordList[i].length == beginWord.length\n",
    "    beginWord, endWord, and wordList[i] consist of lowercase English letters.\n",
    "    beginWord != endWord\n",
    "    All the words in wordList are unique.\n",
    "\n"
   ]
  },
  {
   "cell_type": "markdown",
   "id": "731a992d-270d-4267-9616-ea6016a34989",
   "metadata": {},
   "source": [
    "## Solution\n",
    "\n",
    "First, create an adjacency mapping for each word in the `wordList`. What that means is, for each word, what are other words in the wordList that it can go with one character swapping. If the word is \"dog\", \n",
    "There are three places where characters can be swapped\n",
    "\n",
    "1) First character -> (*)og\n",
    "2) Second character -> d(*)g\n",
    "3) Third character -> do(*)\n",
    "\n",
    "Our adjacency mapping maps these patterns to words in the `wordList`\n",
    "\n",
    "For exapmle, if we have, `beginWord` dig, `endWord` doc and `wordList` [dog, cat, dig, cot, hog, dot, doc, rat, bat, cap, car], the adjacency mapping will be:\n",
    "       \n",
    "       {\"*og\": ['dog', 'hog'],\n",
    "         \"d*g\": ['dog', 'dig'],\n",
    "         \"do*\": ['dog', 'dot', 'doc'],\n",
    "         \"*at\": ['cat', 'rat', 'bat'],\n",
    "         \"c*t\": ['cat', 'cot'],          \n",
    "         \"ca*\": ['cat', 'cap', 'car'],\n",
    "         \"*ig\": ['dig'],\n",
    "         \"di*\": ['dig'],\n",
    "         \"*ot\": ['cot', 'dot'],\n",
    "         \"co*\": ['cot'],\n",
    "         \"h*g\": ['hog'],\n",
    "         \"ho*\": ['hog'],\n",
    "         \"d*t\": ['dot'],\n",
    "         \"*oc\": ['doc'],\n",
    "         \"d*c\": ['doc'],\n",
    "         \"r*t\": ['rat'],\n",
    "         \"ra*\": ['rat'],\n",
    "         \"b*t\": ['bat'],\n",
    "         \"ba*\": ['bat'],\n",
    "         \"*ap\": ['cap'],\n",
    "         \"c*p\": ['cap'],\n",
    "         \"*ar\": ['car'],\n",
    "         \"c*r\": ['car']\n",
    "        }\n",
    " \n",
    "Having this mapping, we just need to check whether a character for the current word can be swapped to get to `endWord`. So, we try to swap every possible character position in the current word and look up the value in our adjacency mapping. We do that for each word in the adjacency mapping until we find the `endWord`. If we encounter `endWord` while checking for words in adjacency mapping, we can return the 1+level at which we are in. If we have exhausted everything, it is sure that we have not found the word and we can return 0.\n",
    "\n",
    "A visual progression of search using this adajacency mapping is as follows:"
   ]
  },
  {
   "cell_type": "markdown",
   "id": "e83d04e8-3ea9-4a49-9a22-a24f063d7f9f",
   "metadata": {},
   "source": [
    "<img src='assets/word_ladder/visual.png'> "
   ]
  },
  {
   "cell_type": "code",
   "execution_count": 15,
   "id": "19362107-1a02-4d6c-a2ab-9d93d30e5e5c",
   "metadata": {},
   "outputs": [],
   "source": [
    "from collections import deque, defaultdict\n",
    "from typing import List\n",
    "\n",
    "def ladderLength(beginWord: str, endWord: str, wordList: List[str]) -> int:\n",
    "    if endWord not in wordList:  # O(n)\n",
    "        return 0\n",
    "    if endWord == beginWord:\n",
    "        return 1\n",
    "\n",
    "    L = len(beginWord)\n",
    "\n",
    "    # Building adjacency mapping\n",
    "    # For every word we encounter, we will swap character at every position of the word\n",
    "    # and look up possible words we can form from the current word\n",
    "    all_combo_dict = defaultdict(list)\n",
    "    for word in wordList:  # O(n)\n",
    "        for i in range(L):  # O(m)\n",
    "            all_combo_dict[word[:i] + \"*\" + word[i + 1 :]].append(\n",
    "                word\n",
    "            )  # Substring operation O(m)\n",
    "    # Overall runtime: O(m^2 * n)\n",
    "\n",
    "    level = 1\n",
    "    # Push to BFS queue with beginWord so that we can start the ball rolling\n",
    "    queue = deque([(beginWord, level)])\n",
    "\n",
    "    # Push words which we can encountered to hash set so that we don't need to process\n",
    "    # the word which we have already seen we can have this luxury since we are doing BFS \n",
    "    # and if we are looking at the previouly looked word, we are sure that it cannot lead\n",
    "    # to a shorter path than then path which we have taken before\n",
    "    seen_words = set([beginWord])\n",
    "\n",
    "    while queue:  # This will be exhausted when we have completed our BFS tree\n",
    "        currentWord, level = queue.popleft()\n",
    "        for i in range(L): # O(m)\n",
    "            # For each character index of the currentWord, we want to check\n",
    "            # whether one of the adjacent words is the end word\n",
    "            # So, we iterate through all adjacent words to check for that\n",
    "            # If an adjacent word is not the end word, we will continue doing the same for\n",
    "            # words mapped in adjacency mapping. Therefore, we push to the queue so they will\n",
    "            # be processed afterwards\n",
    "\n",
    "            intermediate_word = currentWord[:i] + \"*\" + currentWord[i + 1 :] # O(m)\n",
    "            for word in all_combo_dict[intermediate_word]: # O(n)\n",
    "                if word == endWord:\n",
    "                    return level + 1\n",
    "                if word not in seen_words:\n",
    "                    queue.append((word, level + 1))\n",
    "                    seen_words.add(word)\n",
    "\n",
    "    return 0"
   ]
  },
  {
   "cell_type": "markdown",
   "id": "53a053e1-dfb8-493b-8fc2-b82084bd4013",
   "metadata": {},
   "source": [
    "Runtime: O(m^2 n); where m is length of word and n is the length of word list\n",
    "\n",
    "Space: O(m^2 n)"
   ]
  },
  {
   "cell_type": "code",
   "execution_count": 18,
   "id": "a6a5f529-df91-4cee-9ed6-c6653024c61a",
   "metadata": {},
   "outputs": [],
   "source": [
    "# test cases for the problem\n",
    "# [(input grid, number of paths to get to goal for that grid)]\n",
    "\n",
    "test_cases = [\n",
    "    ({\"beginWord\": \"hit\", \"endWord\": \"cog\", \"wordList\": [\"hot\",\"dot\",\"dog\",\"lot\",\"log\",\"cog\"]}, 5),\n",
    "    ({\"beginWord\": \"hit\", \"endWord\": \"cog\", \"wordList\": [\"hot\",\"dot\",\"dog\",\"lot\",\"log\"]}, 0)\n",
    "]"
   ]
  },
  {
   "cell_type": "code",
   "execution_count": 19,
   "id": "e7dd156a-21a3-4aab-9eb0-23019756cd4b",
   "metadata": {},
   "outputs": [
    {
     "name": "stdout",
     "output_type": "stream",
     "text": [
      "Passed\n",
      "Passed\n"
     ]
    }
   ],
   "source": [
    "for tc in test_cases:\n",
    "    question, answer = tc\n",
    "    result = ladderLength(**question)\n",
    "    assert (\n",
    "        result == answer\n",
    "    ), f\"Failed for case {question}. Expected {answer}; got back {result}\"\n",
    "    print(\"Passed\")"
   ]
  }
 ],
 "metadata": {
  "kernelspec": {
   "display_name": "Python 3",
   "language": "python",
   "name": "python3"
  },
  "language_info": {
   "codemirror_mode": {
    "name": "ipython",
    "version": 3
   },
   "file_extension": ".py",
   "mimetype": "text/x-python",
   "name": "python",
   "nbconvert_exporter": "python",
   "pygments_lexer": "ipython3",
   "version": "3.8.5"
  }
 },
 "nbformat": 4,
 "nbformat_minor": 5
}
